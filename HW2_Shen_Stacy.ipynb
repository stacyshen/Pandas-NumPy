{
  "nbformat": 4,
  "nbformat_minor": 0,
  "metadata": {
    "colab": {
      "name": "HW2_Shen_Stacy",
      "provenance": [],
      "collapsed_sections": []
    },
    "kernelspec": {
      "name": "python3",
      "display_name": "Python 3"
    }
  },
  "cells": [
    {
      "cell_type": "markdown",
      "metadata": {
        "id": "bNsIruOzI4iF"
      },
      "source": [
        "## **Homework 2**\n",
        "\n",
        "### Create a copy of the notebook to start answering the questions. Name your notebook in the format HW1_lastname_firstname.ipynb to facilitate the grading process. \n",
        "\n",
        "### Answer all the questions, test your code to ensure there are no errors and the results are as expected. Once you have answered all the questions, save the final copy, then go to File-> click on Download.ipynb. Once the local copy has been downloaded, submit your file on Blackboard under the corresponding assignment section. Also provide us a link to your notebook during submission. \n",
        "\n",
        "### **The due date of this homework is 02/12/2021 (Friday).**\n",
        "\n",
        "### Please ensure you follow all the steps mentioned in the homework.\n",
        "\n",
        "### All the questions have a sample input and output to help you understand the question.\n",
        "\n",
        "### You can submit your solutions any number of times until the deadline.\n"
      ]
    },
    {
      "cell_type": "markdown",
      "metadata": {
        "id": "U3Yz3s2uio1F"
      },
      "source": [
        "**Q1. Lets consider your data is like the below cell:**\n",
        "\n",
        "**Q1-1**: Write a program that create a dataframe from the data.\n",
        "\n",
        "**Q1-2:** Select people that are psychologist or teacher and their number of cars is greater than their family size.\n",
        "\n",
        "**Q1-3:** Select people who have at most 2 family members and at least 1 car.\n",
        "\n",
        "**Q1-4:** Write a code that get number of unique jobs in this dataset.\n",
        "\n",
        "\n",
        "\n"
      ]
    },
    {
      "cell_type": "code",
      "metadata": {
        "id": "yR8lcOtcjxXD"
      },
      "source": [
        "data = {\"name\": [\"Joseph\", \"Jacob\", \"Sam\", \"Jesee\", \"Ryan\", \"Lisa\", \"Lee\"],\n",
        "        \"job\": [\"teacher\", \"psychologist\", \"data scientist\", \"software developer\", \"psychologist\", \"psychologist\", \"teacher\"],\n",
        "        \"family_size\": [3, 2, 1, 4, 2, 3, 2],\n",
        "        \"num_cars\": [3, 1, 1, 2, 2, 4, 1]}"
      ],
      "execution_count": null,
      "outputs": []
    },
    {
      "cell_type": "code",
      "metadata": {
        "id": "Youi5qMaP34p",
        "colab": {
          "base_uri": "https://localhost:8080/"
        },
        "outputId": "9464358d-b424-4f74-883c-9418d0b44451"
      },
      "source": [
        "#Q1-1: Printed for clarity \n",
        "import pandas as pd\n",
        "print(\"Q1-1: \\n\")\n",
        "data = {\"name\": [\"Joseph\", \"Jacob\", \"Sam\", \"Jesee\", \"Ryan\", \"Lisa\", \"Lee\"],\n",
        "        \"job\": [\"teacher\", \"psychologist\", \"data scientist\", \"software developer\", \"psychologist\", \"psychologist\", \"teacher\"],\n",
        "        \"family_size\": [3, 2, 1, 4, 2, 3, 2],\n",
        "        \"num_cars\": [3, 1, 1, 2, 2, 4, 1]}\n",
        "frame = pd.DataFrame(data)\n",
        "print(frame)\n",
        "\n",
        "#Q1-2\n",
        "print(\"\\n Q1-2: \\n\")\n",
        "#frame[(frame[\"job\"]== \"psychologist\") | & ( frame[\"num_cars\"]> frame[\"family_size\"])]\n",
        "newframe = frame[((frame[\"job\"] == \"psychologist\") | (frame[\"job\"]== \"teacher\")) & (frame[\"num_cars\"]> frame[\"family_size\"])]\n",
        "print(newframe)\n",
        "                          \n",
        "#Q1-3\n",
        "print(\"\\n Q1-3: \\n\")\n",
        "xframe = frame[(frame[\"family_size\"] <=2 ) & (frame[\"num_cars\"] >=1) ]\n",
        "print(xframe)\n",
        "\n",
        "#Q1-4\n",
        "print(\"\\n Q1-4: \\n\")\n",
        "num = 0\n",
        "cyc = []\n",
        "for i in range(0, len(frame[\"job\"])):\n",
        "  if frame[\"job\"][i] not in cyc:\n",
        "    cyc.append(frame[\"job\"][i])\n",
        "    num += 1\n",
        "print(\"Number of unique jobs: \", num)\n",
        "\n"
      ],
      "execution_count": 16,
      "outputs": [
        {
          "output_type": "stream",
          "text": [
            "Q1-1: \n",
            "\n",
            "     name                 job  family_size  num_cars\n",
            "0  Joseph             teacher            3         3\n",
            "1   Jacob        psychologist            2         1\n",
            "2     Sam      data scientist            1         1\n",
            "3   Jesee  software developer            4         2\n",
            "4    Ryan        psychologist            2         2\n",
            "5    Lisa        psychologist            3         4\n",
            "6     Lee             teacher            2         1\n",
            "\n",
            " Q1-2: \n",
            "\n",
            "   name           job  family_size  num_cars\n",
            "5  Lisa  psychologist            3         4\n",
            "\n",
            " Q1-3: \n",
            "\n",
            "    name             job  family_size  num_cars\n",
            "1  Jacob    psychologist            2         1\n",
            "2    Sam  data scientist            1         1\n",
            "4   Ryan    psychologist            2         2\n",
            "6    Lee         teacher            2         1\n",
            "\n",
            " Q1-4: \n",
            "\n",
            "Number of unique jobs:  4\n"
          ],
          "name": "stdout"
        }
      ]
    },
    {
      "cell_type": "markdown",
      "metadata": {
        "id": "Ow6nG8k4l91X"
      },
      "source": [
        "**Q2. Lets consider you have two series like the below cell. Compute the mean of weights of each fruit.**"
      ]
    },
    {
      "cell_type": "code",
      "metadata": {
        "id": "u-X_DoOzVLLB"
      },
      "source": [
        "import numpy as np\n",
        "fruit = pd.Series(np.random.choice(['apple', 'banana', 'carrot'], 10))\n",
        "weights = pd.Series(np.linspace(1, 10, 10))"
      ],
      "execution_count": 11,
      "outputs": []
    },
    {
      "cell_type": "markdown",
      "metadata": {
        "id": "3LN9V7V3MGtH"
      },
      "source": [
        ""
      ]
    },
    {
      "cell_type": "code",
      "metadata": {
        "id": "S419nzYnpU__",
        "colab": {
          "base_uri": "https://localhost:8080/"
        },
        "outputId": "1a945244-44df-4231-8a69-20080484c816"
      },
      "source": [
        "import numpy as np\n",
        "import pandas as pd\n",
        "fruit = pd.Series(np.random.choice(['apple', 'banana', 'carrot'], 10))\n",
        "weights = pd.Series(np.linspace(1, 10, 10))\n",
        "weights.groupby(fruit).mean()"
      ],
      "execution_count": 6,
      "outputs": [
        {
          "output_type": "execute_result",
          "data": {
            "text/plain": [
              "apple     7.5\n",
              "banana    4.0\n",
              "carrot    6.0\n",
              "dtype: float64"
            ]
          },
          "metadata": {
            "tags": []
          },
          "execution_count": 6
        }
      ]
    },
    {
      "cell_type": "markdown",
      "metadata": {
        "id": "g4lKaPIhtVrt"
      },
      "source": [
        "**Q3. Consider the below course_name array:**\n",
        "\n",
        "**Q3-1**: Write a NumPy program to get the indices of the sorted elements of **course_name** array.\n",
        "\n",
        "**Q3-2:** Write numpy code to check whether each element of **course_name** array starts with \"P\".\n"
      ]
    },
    {
      "cell_type": "code",
      "metadata": {
        "id": "RUP_jp2KtVrx"
      },
      "source": [
        "import numpy as np\n",
        "course_name = np.array(['Python', 'JS', 'examples', 'PHP', 'html'])"
      ],
      "execution_count": null,
      "outputs": []
    },
    {
      "cell_type": "code",
      "metadata": {
        "id": "U1i27POxv-o_",
        "colab": {
          "base_uri": "https://localhost:8080/"
        },
        "outputId": "12b333ef-facf-476a-bcf6-15cb3dd92b5f"
      },
      "source": [
        "#Q3-1\n",
        "import numpy as np\n",
        "course_name = np.array(['Python', 'JS', 'examples', 'PHP', 'html'])\n",
        "\n",
        "print(\"Q3-1: \\n\")\n",
        "sort_course = np.sort(course_name)\n",
        "print(sort_course)\n",
        "\n",
        "sort_course = np.argsort(course_name)\n",
        "print(sort_course)\n",
        "\n",
        "#Q3-2\n",
        "print(\"\\nQ3-2: \\n\")\n",
        "letterP = np.char.startswith(course_name, \"P\")\n",
        "print(course_name)\n",
        "print(letterP)\n"
      ],
      "execution_count": 7,
      "outputs": [
        {
          "output_type": "stream",
          "text": [
            "Q3-1: \n",
            "\n",
            "['JS' 'PHP' 'Python' 'examples' 'html']\n",
            "[1 3 0 2 4]\n",
            "\n",
            "Q3-2: \n",
            "\n",
            "['Python' 'JS' 'examples' 'PHP' 'html']\n",
            "[ True False False  True False]\n"
          ],
          "name": "stdout"
        }
      ]
    },
    {
      "cell_type": "markdown",
      "metadata": {
        "id": "sUFItNFOxwkz"
      },
      "source": [
        "**Q4. Consider the below student_id array:**\n",
        "\n",
        "**Q4-1:** Reverse the **student_id** array. Print both original and reversed array.\n",
        "\n",
        "**Q4-2:** Get the 3-largest values of **student_id** array."
      ]
    },
    {
      "cell_type": "code",
      "metadata": {
        "id": "Rl5qzEjFv0nw"
      },
      "source": [
        "import numpy as np\n",
        "student_id = np.array([1023, 5202, 6230, 1671, 1682, 5241, 4532])"
      ],
      "execution_count": null,
      "outputs": []
    },
    {
      "cell_type": "code",
      "metadata": {
        "id": "EetvHGrUxMCC",
        "colab": {
          "base_uri": "https://localhost:8080/"
        },
        "outputId": "34e63844-816b-42d4-8fbb-4bfe2129a862"
      },
      "source": [
        "#Q4-1\n",
        "print(\"Q4-1: \\n\")\n",
        "import numpy as np\n",
        "student_id = np.array([1023, 5202, 6230, 1671, 1682, 5241, 4532])\n",
        "print(student_id)\n",
        "reversed_id = student_id[::-1]\n",
        "print(reversed_id)\n",
        "\n",
        "#Q4-2\n",
        "print(\"\\nQ4-2: \\n\")\n",
        "sort_id = np.sort(reversed_id)\n",
        "print(sort_id[-3:])"
      ],
      "execution_count": 8,
      "outputs": [
        {
          "output_type": "stream",
          "text": [
            "Q4-1: \n",
            "\n",
            "[1023 5202 6230 1671 1682 5241 4532]\n",
            "[4532 5241 1682 1671 6230 5202 1023]\n",
            "\n",
            "Q4-2: \n",
            "\n",
            "[5202 5241 6230]\n"
          ],
          "name": "stdout"
        }
      ]
    },
    {
      "cell_type": "markdown",
      "metadata": {
        "id": "uKRyDVuW6B19"
      },
      "source": [
        "# **Q5: Write a numpy program to print sum of all the multiples of 3 or 5 below 100**"
      ]
    },
    {
      "cell_type": "code",
      "metadata": {
        "id": "ZIixq1gz6OK3",
        "colab": {
          "base_uri": "https://localhost:8080/"
        },
        "outputId": "fc7553ee-0899-4177-f773-cda4505174df"
      },
      "source": [
        "# Type your solution here\n",
        "\n",
        "# Hint: you can use arange to start off\n",
        "\n",
        "import numpy as np\n",
        "num = np.arange(1,100)\n",
        "multiples = []\n",
        "for i in range(99):\n",
        "  if num[i] %3 ==0 or num[i] %5==0:\n",
        "    multiples.append(num[i])\n",
        "print(\"Sum: \", sum(multiples))"
      ],
      "execution_count": 10,
      "outputs": [
        {
          "output_type": "stream",
          "text": [
            "Sum:  2318\n"
          ],
          "name": "stdout"
        }
      ]
    },
    {
      "cell_type": "markdown",
      "metadata": {
        "id": "2CWJOsP24c34"
      },
      "source": [
        "**Q6. Consider the below array.**\n",
        "\n",
        "Q6.1. Write a code to swap column 1 with column 2.\n",
        "\n",
        "Q6.2. Write a code to swap row 0 with row 1."
      ]
    },
    {
      "cell_type": "code",
      "metadata": {
        "id": "3OG6X5Eg5KSM",
        "colab": {
          "base_uri": "https://localhost:8080/"
        },
        "outputId": "ef598501-a5cb-49da-ee91-991b12b9b5a4"
      },
      "source": [
        "import numpy as np\n",
        "\n",
        "arr = np.arange(12).reshape(3,4)\n",
        "print(arr)"
      ],
      "execution_count": null,
      "outputs": [
        {
          "output_type": "stream",
          "text": [
            "[[ 0  1  2  3]\n",
            " [ 4  5  6  7]\n",
            " [ 8  9 10 11]]\n"
          ],
          "name": "stdout"
        }
      ]
    },
    {
      "cell_type": "code",
      "metadata": {
        "id": "Q-Q91DpO5YYW",
        "colab": {
          "base_uri": "https://localhost:8080/"
        },
        "outputId": "68ebff3c-96e0-4bbb-e522-619be12bc13a"
      },
      "source": [
        "import numpy as np\n",
        "print(\"Original: \\n\")\n",
        "arr = np.arange(12).reshape(3,4)\n",
        "print(arr)\n",
        "print(\"\\n Q6-1: \\n\")\n",
        "arr[:, [2,1]] = arr[:,[1,2]]\n",
        "print(arr)\n",
        "\n",
        "print(\"\\nQ6-2: \\n\")\n",
        "arr[[0,1],:] = arr[[1,0],:]\n",
        "print(arr)\n",
        "\n"
      ],
      "execution_count": 63,
      "outputs": [
        {
          "output_type": "stream",
          "text": [
            "Original: \n",
            "\n",
            "[[ 0  1  2  3]\n",
            " [ 4  5  6  7]\n",
            " [ 8  9 10 11]]\n",
            "\n",
            " Q6-1: \n",
            "\n",
            "[[ 0  2  1  3]\n",
            " [ 4  6  5  7]\n",
            " [ 8 10  9 11]]\n",
            "\n",
            "Q6-2: \n",
            "\n",
            "[[ 4  6  5  7]\n",
            " [ 0  2  1  3]\n",
            " [ 8 10  9 11]]\n"
          ],
          "name": "stdout"
        }
      ]
    }
  ]
}